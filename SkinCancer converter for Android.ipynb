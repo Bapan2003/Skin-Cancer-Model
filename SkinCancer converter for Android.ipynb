{
 "cells": [
  {
   "cell_type": "code",
   "execution_count": 1,
   "id": "739c5f7b",
   "metadata": {},
   "outputs": [],
   "source": [
    "from tensorflow import keras\n",
    "from keras.models import load_model\n",
    "import tensorflow as tf"
   ]
  },
  {
   "cell_type": "code",
   "execution_count": 2,
   "id": "95314906",
   "metadata": {},
   "outputs": [],
   "source": [
    "Model=load_model('skincancer.h5')"
   ]
  },
  {
   "cell_type": "code",
   "execution_count": 3,
   "id": "84d63c93",
   "metadata": {},
   "outputs": [],
   "source": [
    "converter=tf.lite.TFLiteConverter.from_keras_model(Model)"
   ]
  },
  {
   "cell_type": "code",
   "execution_count": 4,
   "id": "62d8bfdc",
   "metadata": {},
   "outputs": [
    {
     "name": "stdout",
     "output_type": "stream",
     "text": [
      "INFO:tensorflow:Assets written to: C:\\Users\\BAPANM~1\\AppData\\Local\\Temp\\tmpbudz15dx\\assets\n"
     ]
    },
    {
     "name": "stderr",
     "output_type": "stream",
     "text": [
      "INFO:tensorflow:Assets written to: C:\\Users\\BAPANM~1\\AppData\\Local\\Temp\\tmpbudz15dx\\assets\n"
     ]
    }
   ],
   "source": [
    "tf_lite_model=converter.convert()"
   ]
  },
  {
   "cell_type": "code",
   "execution_count": 5,
   "id": "48d4baaa",
   "metadata": {},
   "outputs": [],
   "source": [
    "with open('model.tflite','wb') as f:\n",
    "    f.write(tf_lite_model)"
   ]
  },
  {
   "cell_type": "code",
   "execution_count": null,
   "id": "7f153c30",
   "metadata": {},
   "outputs": [],
   "source": []
  }
 ],
 "metadata": {
  "kernelspec": {
   "display_name": "Python 3 (ipykernel)",
   "language": "python",
   "name": "python3"
  },
  "language_info": {
   "codemirror_mode": {
    "name": "ipython",
    "version": 3
   },
   "file_extension": ".py",
   "mimetype": "text/x-python",
   "name": "python",
   "nbconvert_exporter": "python",
   "pygments_lexer": "ipython3",
   "version": "3.10.9"
  }
 },
 "nbformat": 4,
 "nbformat_minor": 5
}
