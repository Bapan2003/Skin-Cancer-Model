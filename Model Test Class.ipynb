{
 "cells": [
  {
   "cell_type": "code",
   "execution_count": 4,
   "id": "842060bd",
   "metadata": {},
   "outputs": [
    {
     "name": "stdout",
     "output_type": "stream",
     "text": [
      "Collecting opencv-python\n",
      "  Downloading opencv_python-4.8.0.74-cp37-abi3-win_amd64.whl (38.1 MB)\n",
      "     ---------------------------------------- 38.1/38.1 MB 2.7 MB/s eta 0:00:00\n",
      "Requirement already satisfied: numpy>=1.17.3 in c:\\users\\bapan mandal\\anaconda3\\lib\\site-packages (from opencv-python) (1.23.5)\n",
      "Installing collected packages: opencv-python\n",
      "Successfully installed opencv-python-4.8.0.74\n",
      "Note: you may need to restart the kernel to use updated packages.\n"
     ]
    }
   ],
   "source": [
    "pip install opencv-python"
   ]
  },
  {
   "cell_type": "code",
   "execution_count": null,
   "id": "c3c73d3e",
   "metadata": {},
   "outputs": [],
   "source": [
    "import cv2\n",
    "from tensorflow import keras\n",
    "from keras.models import load_model\n",
    "from PIL import Image\n",
    "import numpy as np"
   ]
  },
  {
   "cell_type": "code",
   "execution_count": 7,
   "id": "3301f7ba",
   "metadata": {},
   "outputs": [],
   "source": [
    "model=load_model('skincancer.h5')"
   ]
  },
  {
   "cell_type": "code",
   "execution_count": 30,
   "id": "4a275fc3",
   "metadata": {},
   "outputs": [],
   "source": [
    "classes=[\"akiec\",\"bcc\",\"bkl\",\"df\",\"mel\",\"nv\",\"vas\"]"
   ]
  },
  {
   "cell_type": "code",
   "execution_count": 70,
   "id": "31d8d405",
   "metadata": {},
   "outputs": [],
   "source": [
    "# image=cv2.imread('C://Users/BAPAN MANDAL/OneDrive/Desktop/ISIC_0029306.jpg')\n",
    "image = cv2.imread('F://DataSet/download.jpg')"
   ]
  },
  {
   "cell_type": "code",
   "execution_count": 71,
   "id": "0ea038d2",
   "metadata": {},
   "outputs": [],
   "source": [
    "image=Image.fromarray(image)"
   ]
  },
  {
   "cell_type": "code",
   "execution_count": 72,
   "id": "529554fb",
   "metadata": {},
   "outputs": [],
   "source": [
    "image=image.resize((32,32))"
   ]
  },
  {
   "cell_type": "code",
   "execution_count": 73,
   "id": "f2a80da7",
   "metadata": {},
   "outputs": [],
   "source": [
    "image=np.array(image)"
   ]
  },
  {
   "cell_type": "code",
   "execution_count": 74,
   "id": "46bc28d4",
   "metadata": {},
   "outputs": [
    {
     "data": {
      "text/plain": [
       "(32, 32, 3)"
      ]
     },
     "execution_count": 74,
     "metadata": {},
     "output_type": "execute_result"
    }
   ],
   "source": [
    "image.shape"
   ]
  },
  {
   "cell_type": "code",
   "execution_count": 23,
   "id": "023f4992",
   "metadata": {},
   "outputs": [
    {
     "data": {
      "text/plain": [
       "array([[140, 149, 189],\n",
       "       [134, 145, 189],\n",
       "       [139, 149, 192],\n",
       "       [142, 152, 194],\n",
       "       [144, 154, 197],\n",
       "       [142, 152, 195],\n",
       "       [140, 151, 194],\n",
       "       [141, 152, 194],\n",
       "       [141, 151, 193],\n",
       "       [141, 150, 192],\n",
       "       [139, 147, 190],\n",
       "       [133, 142, 186],\n",
       "       [129, 138, 183],\n",
       "       [122, 130, 178],\n",
       "       [118, 125, 174],\n",
       "       [112, 118, 169],\n",
       "       [106, 112, 164],\n",
       "       [ 98, 104, 157],\n",
       "       [ 90,  97, 149],\n",
       "       [ 84,  89, 143],\n",
       "       [ 76,  81, 134],\n",
       "       [ 66,  72, 123],\n",
       "       [ 54,  59, 108],\n",
       "       [ 44,  49,  94],\n",
       "       [ 28,  34,  76],\n",
       "       [ 73,  75, 114],\n",
       "       [ 52,  56, 101],\n",
       "       [ 72,  79, 130],\n",
       "       [ 98, 106, 154],\n",
       "       [113, 122, 166],\n",
       "       [119, 132, 175],\n",
       "       [124, 140, 180]], dtype=uint8)"
      ]
     },
     "execution_count": 23,
     "metadata": {},
     "output_type": "execute_result"
    }
   ],
   "source": [
    "image[0]"
   ]
  },
  {
   "cell_type": "code",
   "execution_count": 75,
   "id": "8afaae3e",
   "metadata": {},
   "outputs": [],
   "source": [
    "img=np.expand_dims(image,axis=0)"
   ]
  },
  {
   "cell_type": "code",
   "execution_count": 76,
   "id": "b524e4e3",
   "metadata": {},
   "outputs": [
    {
     "name": "stdout",
     "output_type": "stream",
     "text": [
      "1/1 [==============================] - 0s 22ms/step\n"
     ]
    },
    {
     "data": {
      "text/plain": [
       "'nv'"
      ]
     },
     "execution_count": 76,
     "metadata": {},
     "output_type": "execute_result"
    }
   ],
   "source": [
    "classes[np.argmax(model.predict(img))]"
   ]
  },
  {
   "cell_type": "code",
   "execution_count": null,
   "id": "895ae240",
   "metadata": {},
   "outputs": [],
   "source": []
  }
 ],
 "metadata": {
  "kernelspec": {
   "display_name": "Python 3 (ipykernel)",
   "language": "python",
   "name": "python3"
  },
  "language_info": {
   "codemirror_mode": {
    "name": "ipython",
    "version": 3
   },
   "file_extension": ".py",
   "mimetype": "text/x-python",
   "name": "python",
   "nbconvert_exporter": "python",
   "pygments_lexer": "ipython3",
   "version": "3.10.9"
  },
  "vscode": {
   "interpreter": {
    "hash": "d0546898325a473dc2b1b850a5d94a9773bd0721bbfe59d04301d2f139bfd306"
   }
  }
 },
 "nbformat": 4,
 "nbformat_minor": 5
}
